{
  "nbformat": 4,
  "nbformat_minor": 0,
  "metadata": {
    "kernelspec": {
      "display_name": "Python 3",
      "language": "python",
      "name": "python3"
    },
    "language_info": {
      "codemirror_mode": {
        "name": "ipython",
        "version": 3
      },
      "file_extension": ".py",
      "mimetype": "text/x-python",
      "name": "python",
      "nbconvert_exporter": "python",
      "pygments_lexer": "ipython3",
      "version": "3.7.0"
    },
    "colab": {
      "name": "Assmt5.ipynb",
      "provenance": [],
      "collapsed_sections": [
        "oYxDswQwgkpT"
      ]
    }
  },
  "cells": [
    {
      "cell_type": "markdown",
      "metadata": {
        "id": "O5vj6-BZgkpG"
      },
      "source": [
        "# 1. Importing Libraries and reading the dataset"
      ]
    },
    {
      "cell_type": "code",
      "metadata": {
        "id": "wlImddlZgkpK"
      },
      "source": [
        "import numpy as np\n",
        "import pandas as pd\n",
        "import matplotlib.pyplot as plt\n",
        "import seaborn as sns\n",
        "from sklearn.metrics import accuracy_score\n",
        "from sklearn.metrics import mean_squared_error\n",
        "from sklearn.model_selection import cross_val_score\n",
        "from sklearn.metrics import confusion_matrix\n",
        "from collections import Counter\n",
        "from IPython.core.display import display, HTML\n",
        "sns.set_style('darkgrid')"
      ],
      "execution_count": 1,
      "outputs": []
    },
    {
      "cell_type": "code",
      "metadata": {
        "colab": {
          "base_uri": "https://localhost:8080/",
          "height": 220
        },
        "id": "YABwlMT2gkpM",
        "outputId": "0de8cb34-6ed4-46fe-8ff2-f2b4056dba39"
      },
      "source": [
        "dataset = pd.read_csv('winequality-red.csv')\n",
        "dataset.head()"
      ],
      "execution_count": 2,
      "outputs": [
        {
          "output_type": "execute_result",
          "data": {
            "text/html": [
              "<div>\n",
              "<style scoped>\n",
              "    .dataframe tbody tr th:only-of-type {\n",
              "        vertical-align: middle;\n",
              "    }\n",
              "\n",
              "    .dataframe tbody tr th {\n",
              "        vertical-align: top;\n",
              "    }\n",
              "\n",
              "    .dataframe thead th {\n",
              "        text-align: right;\n",
              "    }\n",
              "</style>\n",
              "<table border=\"1\" class=\"dataframe\">\n",
              "  <thead>\n",
              "    <tr style=\"text-align: right;\">\n",
              "      <th></th>\n",
              "      <th>fixed acidity</th>\n",
              "      <th>volatile acidity</th>\n",
              "      <th>citric acid</th>\n",
              "      <th>residual sugar</th>\n",
              "      <th>chlorides</th>\n",
              "      <th>free sulfur dioxide</th>\n",
              "      <th>total sulfur dioxide</th>\n",
              "      <th>density</th>\n",
              "      <th>pH</th>\n",
              "      <th>sulphates</th>\n",
              "      <th>alcohol</th>\n",
              "      <th>quality</th>\n",
              "    </tr>\n",
              "  </thead>\n",
              "  <tbody>\n",
              "    <tr>\n",
              "      <th>0</th>\n",
              "      <td>7.4</td>\n",
              "      <td>0.70</td>\n",
              "      <td>0.00</td>\n",
              "      <td>1.9</td>\n",
              "      <td>0.076</td>\n",
              "      <td>11.0</td>\n",
              "      <td>34.0</td>\n",
              "      <td>0.9978</td>\n",
              "      <td>3.51</td>\n",
              "      <td>0.56</td>\n",
              "      <td>9.4</td>\n",
              "      <td>5</td>\n",
              "    </tr>\n",
              "    <tr>\n",
              "      <th>1</th>\n",
              "      <td>7.8</td>\n",
              "      <td>0.88</td>\n",
              "      <td>0.00</td>\n",
              "      <td>2.6</td>\n",
              "      <td>0.098</td>\n",
              "      <td>25.0</td>\n",
              "      <td>67.0</td>\n",
              "      <td>0.9968</td>\n",
              "      <td>3.20</td>\n",
              "      <td>0.68</td>\n",
              "      <td>9.8</td>\n",
              "      <td>5</td>\n",
              "    </tr>\n",
              "    <tr>\n",
              "      <th>2</th>\n",
              "      <td>7.8</td>\n",
              "      <td>0.76</td>\n",
              "      <td>0.04</td>\n",
              "      <td>2.3</td>\n",
              "      <td>0.092</td>\n",
              "      <td>15.0</td>\n",
              "      <td>54.0</td>\n",
              "      <td>0.9970</td>\n",
              "      <td>3.26</td>\n",
              "      <td>0.65</td>\n",
              "      <td>9.8</td>\n",
              "      <td>5</td>\n",
              "    </tr>\n",
              "    <tr>\n",
              "      <th>3</th>\n",
              "      <td>11.2</td>\n",
              "      <td>0.28</td>\n",
              "      <td>0.56</td>\n",
              "      <td>1.9</td>\n",
              "      <td>0.075</td>\n",
              "      <td>17.0</td>\n",
              "      <td>60.0</td>\n",
              "      <td>0.9980</td>\n",
              "      <td>3.16</td>\n",
              "      <td>0.58</td>\n",
              "      <td>9.8</td>\n",
              "      <td>6</td>\n",
              "    </tr>\n",
              "    <tr>\n",
              "      <th>4</th>\n",
              "      <td>7.4</td>\n",
              "      <td>0.70</td>\n",
              "      <td>0.00</td>\n",
              "      <td>1.9</td>\n",
              "      <td>0.076</td>\n",
              "      <td>11.0</td>\n",
              "      <td>34.0</td>\n",
              "      <td>0.9978</td>\n",
              "      <td>3.51</td>\n",
              "      <td>0.56</td>\n",
              "      <td>9.4</td>\n",
              "      <td>5</td>\n",
              "    </tr>\n",
              "  </tbody>\n",
              "</table>\n",
              "</div>"
            ],
            "text/plain": [
              "   fixed acidity  volatile acidity  citric acid  ...  sulphates  alcohol  quality\n",
              "0            7.4              0.70         0.00  ...       0.56      9.4        5\n",
              "1            7.8              0.88         0.00  ...       0.68      9.8        5\n",
              "2            7.8              0.76         0.04  ...       0.65      9.8        5\n",
              "3           11.2              0.28         0.56  ...       0.58      9.8        6\n",
              "4            7.4              0.70         0.00  ...       0.56      9.4        5\n",
              "\n",
              "[5 rows x 12 columns]"
            ]
          },
          "metadata": {},
          "execution_count": 2
        }
      ]
    },
    {
      "cell_type": "markdown",
      "metadata": {
        "id": "Yv2S6QILgkpN"
      },
      "source": [
        "# 2. Data Visualization and Preprocessing"
      ]
    },
    {
      "cell_type": "code",
      "metadata": {
        "colab": {
          "base_uri": "https://localhost:8080/"
        },
        "id": "YcLCayhmgkpO",
        "outputId": "1efbaf78-63b8-4a88-ea1b-1f81dce97899"
      },
      "source": [
        "dataset.isnull().sum()"
      ],
      "execution_count": 3,
      "outputs": [
        {
          "output_type": "execute_result",
          "data": {
            "text/plain": [
              "fixed acidity           0\n",
              "volatile acidity        0\n",
              "citric acid             0\n",
              "residual sugar          0\n",
              "chlorides               0\n",
              "free sulfur dioxide     0\n",
              "total sulfur dioxide    0\n",
              "density                 0\n",
              "pH                      0\n",
              "sulphates               0\n",
              "alcohol                 0\n",
              "quality                 0\n",
              "dtype: int64"
            ]
          },
          "metadata": {},
          "execution_count": 3
        }
      ]
    },
    {
      "cell_type": "code",
      "metadata": {
        "id": "QC3CR-M8gkpO"
      },
      "source": [
        "bins = (2, 6.5, 8)\n",
        "labels = ['bad', 'good']\n",
        "dataset['quality'] = pd.cut(x = dataset['quality'], bins = bins, labels = labels)"
      ],
      "execution_count": 4,
      "outputs": []
    },
    {
      "cell_type": "code",
      "metadata": {
        "colab": {
          "base_uri": "https://localhost:8080/"
        },
        "id": "f7Xn-poFgkpP",
        "outputId": "58ede9f1-9fe4-4ffd-82cc-a3b70d3d7371"
      },
      "source": [
        "dataset['quality'].value_counts()"
      ],
      "execution_count": 5,
      "outputs": [
        {
          "output_type": "execute_result",
          "data": {
            "text/plain": [
              "bad     1382\n",
              "good     217\n",
              "Name: quality, dtype: int64"
            ]
          },
          "metadata": {},
          "execution_count": 5
        }
      ]
    },
    {
      "cell_type": "code",
      "metadata": {
        "id": "_Qj_k5nfgkpP"
      },
      "source": [
        "from sklearn.preprocessing import LabelEncoder\n",
        "labelencoder_y = LabelEncoder()\n",
        "dataset['quality'] = labelencoder_y.fit_transform(dataset['quality'])"
      ],
      "execution_count": 6,
      "outputs": []
    },
    {
      "cell_type": "code",
      "metadata": {
        "colab": {
          "base_uri": "https://localhost:8080/",
          "height": 220
        },
        "id": "t0oE22OrgkpQ",
        "outputId": "da095200-4cf9-4082-cd67-21c1d30d47ff"
      },
      "source": [
        "dataset.head()"
      ],
      "execution_count": 7,
      "outputs": [
        {
          "output_type": "execute_result",
          "data": {
            "text/html": [
              "<div>\n",
              "<style scoped>\n",
              "    .dataframe tbody tr th:only-of-type {\n",
              "        vertical-align: middle;\n",
              "    }\n",
              "\n",
              "    .dataframe tbody tr th {\n",
              "        vertical-align: top;\n",
              "    }\n",
              "\n",
              "    .dataframe thead th {\n",
              "        text-align: right;\n",
              "    }\n",
              "</style>\n",
              "<table border=\"1\" class=\"dataframe\">\n",
              "  <thead>\n",
              "    <tr style=\"text-align: right;\">\n",
              "      <th></th>\n",
              "      <th>fixed acidity</th>\n",
              "      <th>volatile acidity</th>\n",
              "      <th>citric acid</th>\n",
              "      <th>residual sugar</th>\n",
              "      <th>chlorides</th>\n",
              "      <th>free sulfur dioxide</th>\n",
              "      <th>total sulfur dioxide</th>\n",
              "      <th>density</th>\n",
              "      <th>pH</th>\n",
              "      <th>sulphates</th>\n",
              "      <th>alcohol</th>\n",
              "      <th>quality</th>\n",
              "    </tr>\n",
              "  </thead>\n",
              "  <tbody>\n",
              "    <tr>\n",
              "      <th>0</th>\n",
              "      <td>7.4</td>\n",
              "      <td>0.70</td>\n",
              "      <td>0.00</td>\n",
              "      <td>1.9</td>\n",
              "      <td>0.076</td>\n",
              "      <td>11.0</td>\n",
              "      <td>34.0</td>\n",
              "      <td>0.9978</td>\n",
              "      <td>3.51</td>\n",
              "      <td>0.56</td>\n",
              "      <td>9.4</td>\n",
              "      <td>0</td>\n",
              "    </tr>\n",
              "    <tr>\n",
              "      <th>1</th>\n",
              "      <td>7.8</td>\n",
              "      <td>0.88</td>\n",
              "      <td>0.00</td>\n",
              "      <td>2.6</td>\n",
              "      <td>0.098</td>\n",
              "      <td>25.0</td>\n",
              "      <td>67.0</td>\n",
              "      <td>0.9968</td>\n",
              "      <td>3.20</td>\n",
              "      <td>0.68</td>\n",
              "      <td>9.8</td>\n",
              "      <td>0</td>\n",
              "    </tr>\n",
              "    <tr>\n",
              "      <th>2</th>\n",
              "      <td>7.8</td>\n",
              "      <td>0.76</td>\n",
              "      <td>0.04</td>\n",
              "      <td>2.3</td>\n",
              "      <td>0.092</td>\n",
              "      <td>15.0</td>\n",
              "      <td>54.0</td>\n",
              "      <td>0.9970</td>\n",
              "      <td>3.26</td>\n",
              "      <td>0.65</td>\n",
              "      <td>9.8</td>\n",
              "      <td>0</td>\n",
              "    </tr>\n",
              "    <tr>\n",
              "      <th>3</th>\n",
              "      <td>11.2</td>\n",
              "      <td>0.28</td>\n",
              "      <td>0.56</td>\n",
              "      <td>1.9</td>\n",
              "      <td>0.075</td>\n",
              "      <td>17.0</td>\n",
              "      <td>60.0</td>\n",
              "      <td>0.9980</td>\n",
              "      <td>3.16</td>\n",
              "      <td>0.58</td>\n",
              "      <td>9.8</td>\n",
              "      <td>0</td>\n",
              "    </tr>\n",
              "    <tr>\n",
              "      <th>4</th>\n",
              "      <td>7.4</td>\n",
              "      <td>0.70</td>\n",
              "      <td>0.00</td>\n",
              "      <td>1.9</td>\n",
              "      <td>0.076</td>\n",
              "      <td>11.0</td>\n",
              "      <td>34.0</td>\n",
              "      <td>0.9978</td>\n",
              "      <td>3.51</td>\n",
              "      <td>0.56</td>\n",
              "      <td>9.4</td>\n",
              "      <td>0</td>\n",
              "    </tr>\n",
              "  </tbody>\n",
              "</table>\n",
              "</div>"
            ],
            "text/plain": [
              "   fixed acidity  volatile acidity  citric acid  ...  sulphates  alcohol  quality\n",
              "0            7.4              0.70         0.00  ...       0.56      9.4        0\n",
              "1            7.8              0.88         0.00  ...       0.68      9.8        0\n",
              "2            7.8              0.76         0.04  ...       0.65      9.8        0\n",
              "3           11.2              0.28         0.56  ...       0.58      9.8        0\n",
              "4            7.4              0.70         0.00  ...       0.56      9.4        0\n",
              "\n",
              "[5 rows x 12 columns]"
            ]
          },
          "metadata": {},
          "execution_count": 7
        }
      ]
    },
    {
      "cell_type": "code",
      "metadata": {
        "colab": {
          "base_uri": "https://localhost:8080/",
          "height": 572
        },
        "id": "mk_H460tgkpR",
        "outputId": "e0c1d995-7ead-42ec-f05c-0450858b6c35"
      },
      "source": [
        "corr = dataset.corr()\n",
        "#Plot figsize\n",
        "fig, ax = plt.subplots(figsize=(10, 8))\n",
        "#Generate Heat Map, allow annotations and place floats in map\n",
        "sns.heatmap(corr, cmap='coolwarm', annot=True, fmt=\".2f\")\n",
        "#Apply xticks\n",
        "plt.xticks(range(len(corr.columns)), corr.columns);\n",
        "#Apply yticks\n",
        "plt.yticks(range(len(corr.columns)), corr.columns)\n",
        "#show plot\n",
        "plt.show()"
      ],
      "execution_count": 8,
      "outputs": [
        {
          "output_type": "display_data",
          "data": {
            "image/png": "[encoded data removed]",
            "text/plain": [
              "<Figure size 720x576 with 2 Axes>"
            ]
          },
          "metadata": {
            "needs_background": "light"
          }
        }
      ]
    },
    {
      "cell_type": "code",
      "metadata": {
        "colab": {
          "base_uri": "https://localhost:8080/"
        },
        "id": "hA-MVhfZgkpR",
        "outputId": "cd993857-1578-4571-a269-29c434a13702"
      },
      "source": [
        "dataset['quality'].value_counts()"
      ],
      "execution_count": 9,
      "outputs": [
        {
          "output_type": "execute_result",
          "data": {
            "text/plain": [
              "0    1382\n",
              "1     217\n",
              "Name: quality, dtype: int64"
            ]
          },
          "metadata": {},
          "execution_count": 9
        }
      ]
    },
    {
      "cell_type": "code",
      "metadata": {
        "id": "WQvP-WxWgkpS"
      },
      "source": [
        "X = dataset.drop('quality', axis = 1).values\n",
        "y = dataset['quality'].values.reshape(-1,1)"
      ],
      "execution_count": 10,
      "outputs": []
    },
    {
      "cell_type": "code",
      "metadata": {
        "id": "iw4LRBDXgkpS"
      },
      "source": [
        "# Splitting the dataset into the Training set and Test set\n",
        "from sklearn.model_selection import train_test_split\n",
        "X_train, X_test, y_train, y_test = train_test_split(X, y, test_size = 0.2, random_state = 42)"
      ],
      "execution_count": 11,
      "outputs": []
    },
    {
      "cell_type": "code",
      "metadata": {
        "colab": {
          "base_uri": "https://localhost:8080/"
        },
        "id": "gcZA9H7KgkpS",
        "outputId": "065e3bde-74b0-47db-be6a-39a4dfed2b17"
      },
      "source": [
        "print(\"Shape of X_train: \",X_train.shape)\n",
        "print(\"Shape of X_test: \", X_test.shape)\n",
        "print(\"Shape of y_train: \",y_train.shape)\n",
        "print(\"Shape of y_test\",y_test.shape)"
      ],
      "execution_count": 12,
      "outputs": [
        {
          "output_type": "stream",
          "name": "stdout",
          "text": [
            "Shape of X_train:  (1279, 11)\n",
            "Shape of X_test:  (320, 11)\n",
            "Shape of y_train:  (1279, 1)\n",
            "Shape of y_test (320, 1)\n"
          ]
        }
      ]
    },
    {
      "cell_type": "code",
      "metadata": {
        "id": "B7C8DjhfgkpT"
      },
      "source": [
        "# Feature Scaling\n",
        "from sklearn.preprocessing import StandardScaler\n",
        "sc = StandardScaler()\n",
        "X_train_scaled = sc.fit_transform(X_train)\n",
        "X_test_scaled = sc.transform(X_test)"
      ],
      "execution_count": 13,
      "outputs": []
    },
    {
      "cell_type": "markdown",
      "metadata": {
        "id": "oYxDswQwgkpT"
      },
      "source": [
        "# 3. Classification Models"
      ]
    },
    {
      "cell_type": "markdown",
      "metadata": {
        "id": "BBQ2I7khgkpT"
      },
      "source": [
        "# 3.1. Logistic Regression"
      ]
    },
    {
      "cell_type": "code",
      "metadata": {
        "colab": {
          "base_uri": "https://localhost:8080/"
        },
        "id": "7OzaR20vgkpU",
        "outputId": "89c80ec5-27d1-4983-b267-42d33409fc2a"
      },
      "source": [
        "# Fitting Logistic Regression to the Training set\n",
        "from sklearn.linear_model import LogisticRegression\n",
        "classifier_lr = LogisticRegression(C=1, fit_intercept=True, max_iter=1000, penalty = 'l2', solver='liblinear')\n",
        "classifier_lr.fit(X_train_scaled, y_train.ravel())"
      ],
      "execution_count": 14,
      "outputs": [
        {
          "output_type": "execute_result",
          "data": {
            "text/plain": [
              "LogisticRegression(C=1, class_weight=None, dual=False, fit_intercept=True,\n",
              "                   intercept_scaling=1, l1_ratio=None, max_iter=1000,\n",
              "                   multi_class='auto', n_jobs=None, penalty='l2',\n",
              "                   random_state=None, solver='liblinear', tol=0.0001, verbose=0,\n",
              "                   warm_start=False)"
            ]
          },
          "metadata": {},
          "execution_count": 14
        }
      ]
    },
    {
      "cell_type": "code",
      "metadata": {
        "colab": {
          "base_uri": "https://localhost:8080/"
        },
        "id": "wqcNPVcIgkpU",
        "outputId": "776d87d6-95d5-4040-8e35-e1870b9c0a0f"
      },
      "source": [
        "# Predicting Cross Validation Score\n",
        "cv_lr = cross_val_score(estimator = classifier_lr, X = X_train_scaled, y = y_train.ravel(), cv = 10)\n",
        "print(\"CV: \", cv_lr.mean())\n",
        "\n",
        "y_pred_lr_train = classifier_lr.predict(X_train_scaled)\n",
        "accuracy_lr_train = accuracy_score(y_train, y_pred_lr_train)\n",
        "print(\"Training set: \", accuracy_lr_train)\n",
        "\n",
        "y_pred_lr_test = classifier_lr.predict(X_test_scaled)\n",
        "accuracy_lr_test = accuracy_score(y_test, y_pred_lr_test)\n",
        "print(\"Test set: \", accuracy_lr_test)"
      ],
      "execution_count": 15,
      "outputs": [
        {
          "output_type": "stream",
          "name": "stdout",
          "text": [
            "CV:  0.885857529527559\n",
            "Training set:  0.8858483189992181\n",
            "Test set:  0.865625\n"
          ]
        }
      ]
    },
    {
      "cell_type": "code",
      "metadata": {
        "colab": {
          "base_uri": "https://localhost:8080/"
        },
        "id": "4qLtRqaGgkpV",
        "outputId": "18da9ac8-d1df-44c3-a9ee-cdc139cc2d3a"
      },
      "source": [
        "confusion_matrix(y_test, y_pred_lr_test)"
      ],
      "execution_count": 16,
      "outputs": [
        {
          "output_type": "execute_result",
          "data": {
            "text/plain": [
              "array([[264,   9],\n",
              "       [ 34,  13]])"
            ]
          },
          "metadata": {},
          "execution_count": 16
        }
      ]
    },
    {
      "cell_type": "code",
      "metadata": {
        "id": "H7LA9ElwgkpV"
      },
      "source": [
        "tp_lr = confusion_matrix(y_test, y_pred_lr_test)[0,0]\n",
        "fp_lr = confusion_matrix(y_test, y_pred_lr_test)[0,1]\n",
        "tn_lr = confusion_matrix(y_test, y_pred_lr_test)[1,1]\n",
        "fn_lr = confusion_matrix(y_test, y_pred_lr_test)[1,0]"
      ],
      "execution_count": 17,
      "outputs": []
    },
    {
      "cell_type": "code",
      "metadata": {
        "colab": {
          "base_uri": "https://localhost:8080/"
        },
        "id": "XhM8wIaggkpV",
        "outputId": "d5b6d53c-dbdb-496c-85fe-5459eeb2e3ce"
      },
      "source": [
        "precison_lr = tp_lr/(tp_lr+fp_lr)\n",
        "recall_lr = tp_lr/(tp_lr+fn_lr)\n",
        "\n",
        "print(\"Precision: \", precison_lr)\n",
        "print(\"Recall: \", recall_lr)"
      ],
      "execution_count": 18,
      "outputs": [
        {
          "output_type": "stream",
          "name": "stdout",
          "text": [
            "Precision:  0.967032967032967\n",
            "Recall:  0.8859060402684564\n"
          ]
        }
      ]
    },
    {
      "cell_type": "markdown",
      "metadata": {
        "id": "9WZ6KWRvgkpW"
      },
      "source": [
        "# 3.2. KNN"
      ]
    },
    {
      "cell_type": "code",
      "metadata": {
        "colab": {
          "base_uri": "https://localhost:8080/"
        },
        "id": "AP9VMa8igkpW",
        "outputId": "92c42dea-1bc0-4b31-ca92-55e972abcd26"
      },
      "source": [
        "# Fitting classifier to the Training set\n",
        "from sklearn.neighbors import KNeighborsClassifier\n",
        "classifier_knn = KNeighborsClassifier(leaf_size = 1, metric = 'minkowski', n_neighbors = 32, weights = 'distance')\n",
        "classifier_knn.fit(X_train_scaled, y_train.ravel())"
      ],
      "execution_count": 19,
      "outputs": [
        {
          "output_type": "execute_result",
          "data": {
            "text/plain": [
              "KNeighborsClassifier(algorithm='auto', leaf_size=1, metric='minkowski',\n",
              "                     metric_params=None, n_jobs=None, n_neighbors=32, p=2,\n",
              "                     weights='distance')"
            ]
          },
          "metadata": {},
          "execution_count": 19
        }
      ]
    },
    {
      "cell_type": "code",
      "metadata": {
        "colab": {
          "base_uri": "https://localhost:8080/"
        },
        "id": "jk8cdlG_gkpW",
        "outputId": "2098983c-e145-45dc-e7cb-3ebde8193826"
      },
      "source": [
        "# Predicting Cross Validation Score\n",
        "cv_knn = cross_val_score(estimator = classifier_knn, X = X_train_scaled, y = y_train.ravel(), cv = 10)\n",
        "print(\"CV: \", cv_knn.mean())\n",
        "\n",
        "y_pred_knn_train = classifier_knn.predict(X_train_scaled)\n",
        "accuracy_knn_train = accuracy_score(y_train, y_pred_knn_train)\n",
        "print(\"Training set: \", accuracy_knn_train)\n",
        "\n",
        "y_pred_knn_test = classifier_knn.predict(X_test_scaled)\n",
        "accuracy_knn_test = accuracy_score(y_test, y_pred_knn_test)\n",
        "print(\"Test set: \", accuracy_knn_test)"
      ],
      "execution_count": 20,
      "outputs": [
        {
          "output_type": "stream",
          "name": "stdout",
          "text": [
            "CV:  0.9022699311023622\n",
            "Training set:  1.0\n",
            "Test set:  0.89375\n"
          ]
        }
      ]
    },
    {
      "cell_type": "code",
      "metadata": {
        "colab": {
          "base_uri": "https://localhost:8080/"
        },
        "id": "R6594GmbgkpW",
        "outputId": "dfdf8ba6-5197-4a83-9b80-6d39651f0d08"
      },
      "source": [
        "confusion_matrix(y_test, y_pred_knn_test)"
      ],
      "execution_count": 21,
      "outputs": [
        {
          "output_type": "execute_result",
          "data": {
            "text/plain": [
              "array([[264,   9],\n",
              "       [ 25,  22]])"
            ]
          },
          "metadata": {},
          "execution_count": 21
        }
      ]
    },
    {
      "cell_type": "code",
      "metadata": {
        "id": "_4YUVv3_gkpX"
      },
      "source": [
        "tp_knn = confusion_matrix(y_test, y_pred_knn_test)[0,0]\n",
        "fp_knn = confusion_matrix(y_test, y_pred_knn_test)[0,1]\n",
        "tn_knn = confusion_matrix(y_test, y_pred_knn_test)[1,1]\n",
        "fn_knn = confusion_matrix(y_test, y_pred_knn_test)[1,0]"
      ],
      "execution_count": 22,
      "outputs": []
    },
    {
      "cell_type": "code",
      "metadata": {
        "colab": {
          "base_uri": "https://localhost:8080/"
        },
        "id": "8SkjgURygkpX",
        "outputId": "59e36c0d-0a1a-44be-bcc6-937261d5b4d7"
      },
      "source": [
        "precison_knn = tp_knn/(tp_knn+fp_knn)\n",
        "recall_knn = tp_knn/(tp_knn+fn_knn)\n",
        "\n",
        "print(\"Precision: \", precison_knn)\n",
        "print(\"Recall: \", recall_knn)"
      ],
      "execution_count": 23,
      "outputs": [
        {
          "output_type": "stream",
          "name": "stdout",
          "text": [
            "Precision:  0.967032967032967\n",
            "Recall:  0.9134948096885813\n"
          ]
        }
      ]
    },
    {
      "cell_type": "markdown",
      "metadata": {
        "id": "bcmHxZ26gkpX"
      },
      "source": [
        "# 3.3. Linear SVM"
      ]
    },
    {
      "cell_type": "code",
      "metadata": {
        "colab": {
          "base_uri": "https://localhost:8080/"
        },
        "id": "o4kDURQtgkpX",
        "outputId": "f3cc808b-e4f6-46cf-daeb-1a9e4450b15d"
      },
      "source": [
        "# Fitting classifier to the Training set\n",
        "from sklearn.svm import SVC\n",
        "classifier_svm_linear = SVC(kernel = 'linear')\n",
        "classifier_svm_linear.fit(X_train_scaled, y_train.ravel())"
      ],
      "execution_count": 24,
      "outputs": [
        {
          "output_type": "execute_result",
          "data": {
            "text/plain": [
              "SVC(C=1.0, break_ties=False, cache_size=200, class_weight=None, coef0=0.0,\n",
              "    decision_function_shape='ovr', degree=3, gamma='scale', kernel='linear',\n",
              "    max_iter=-1, probability=False, random_state=None, shrinking=True,\n",
              "    tol=0.001, verbose=False)"
            ]
          },
          "metadata": {},
          "execution_count": 24
        }
      ]
    },
    {
      "cell_type": "code",
      "metadata": {
        "colab": {
          "base_uri": "https://localhost:8080/"
        },
        "id": "GQ47BIlXgkpX",
        "outputId": "de26fdad-8063-4745-fc63-60e750d7677d"
      },
      "source": [
        "# Predicting Cross Validation Score\n",
        "cv_svm_linear = cross_val_score(estimator = classifier_svm_linear, X = X_train_scaled, y = y_train.ravel(), cv = 10)\n",
        "print(\"CV: \", cv_svm_linear.mean())\n",
        "\n",
        "y_pred_svm_linear_train = classifier_svm_linear.predict(X_train_scaled)\n",
        "accuracy_svm_linear_train = accuracy_score(y_train, y_pred_svm_linear_train)\n",
        "print(\"Training set: \", accuracy_svm_linear_train)\n",
        "\n",
        "y_pred_svm_linear_test = classifier_svm_linear.predict(X_test_scaled)\n",
        "accuracy_svm_linear_test = accuracy_score(y_test, y_pred_svm_linear_test)\n",
        "print(\"Test set: \", accuracy_svm_linear_test)"
      ],
      "execution_count": 25,
      "outputs": [
        {
          "output_type": "stream",
          "name": "stdout",
          "text": [
            "CV:  0.8670829232283465\n",
            "Training set:  0.8670836591086787\n",
            "Test set:  0.853125\n"
          ]
        }
      ]
    },
    {
      "cell_type": "code",
      "metadata": {
        "colab": {
          "base_uri": "https://localhost:8080/"
        },
        "id": "g3gRYY7igkpX",
        "outputId": "187fdc88-5279-4bf8-d0db-5a757b7b1282"
      },
      "source": [
        "confusion_matrix(y_test, y_pred_svm_linear_test)"
      ],
      "execution_count": 26,
      "outputs": [
        {
          "output_type": "execute_result",
          "data": {
            "text/plain": [
              "array([[273,   0],\n",
              "       [ 47,   0]])"
            ]
          },
          "metadata": {},
          "execution_count": 26
        }
      ]
    },
    {
      "cell_type": "code",
      "metadata": {
        "id": "dfjgO96UgkpY"
      },
      "source": [
        "tp_svm_linear = confusion_matrix(y_test, y_pred_svm_linear_test)[0,0]\n",
        "fp_svm_linear = confusion_matrix(y_test, y_pred_svm_linear_test)[0,1]\n",
        "tn_svm_linear = confusion_matrix(y_test, y_pred_svm_linear_test)[1,1]\n",
        "fn_svm_linear = confusion_matrix(y_test, y_pred_svm_linear_test)[1,0]"
      ],
      "execution_count": 27,
      "outputs": []
    },
    {
      "cell_type": "code",
      "metadata": {
        "colab": {
          "base_uri": "https://localhost:8080/"
        },
        "id": "_1HuMiO5gkpY",
        "outputId": "00b5bb82-2b65-4e6e-f309-7ef06bfdd47f"
      },
      "source": [
        "precison_svm_linear = tp_svm_linear/(tp_svm_linear+fp_svm_linear)\n",
        "recall_svm_linear = tp_svm_linear/(tp_svm_linear+fn_svm_linear)\n",
        "\n",
        "print(\"Precision: \", precison_svm_linear)\n",
        "print(\"Recall: \", recall_svm_linear)"
      ],
      "execution_count": 28,
      "outputs": [
        {
          "output_type": "stream",
          "name": "stdout",
          "text": [
            "Precision:  1.0\n",
            "Recall:  0.853125\n"
          ]
        }
      ]
    },
    {
      "cell_type": "markdown",
      "metadata": {
        "id": "om4IV0iQgkpY"
      },
      "source": [
        "# 3.4. Non Linear SVM (RBF Kernel)"
      ]
    },
    {
      "cell_type": "code",
      "metadata": {
        "colab": {
          "base_uri": "https://localhost:8080/"
        },
        "id": "TVWa0ozkgkpY",
        "outputId": "2b0adc29-590f-441d-94f8-fdbe57a2e501"
      },
      "source": [
        "# Fitting classifier to the Training set\n",
        "from sklearn.svm import SVC\n",
        "classifier_svm_kernel = SVC(kernel = 'rbf', C = 10, tol = 0.001, gamma = 'scale')\n",
        "classifier_svm_kernel.fit(X_train_scaled, y_train.ravel())"
      ],
      "execution_count": 29,
      "outputs": [
        {
          "output_type": "execute_result",
          "data": {
            "text/plain": [
              "SVC(C=10, break_ties=False, cache_size=200, class_weight=None, coef0=0.0,\n",
              "    decision_function_shape='ovr', degree=3, gamma='scale', kernel='rbf',\n",
              "    max_iter=-1, probability=False, random_state=None, shrinking=True,\n",
              "    tol=0.001, verbose=False)"
            ]
          },
          "metadata": {},
          "execution_count": 29
        }
      ]
    },
    {
      "cell_type": "code",
      "metadata": {
        "colab": {
          "base_uri": "https://localhost:8080/"
        },
        "id": "j1fqO3dOgkpY",
        "outputId": "b3c04fcc-04af-4445-caeb-cc8b822100dd"
      },
      "source": [
        "# Predicting Cross Validation Score\n",
        "cv_svm_kernel = cross_val_score(estimator = classifier_svm_kernel, X = X_train_scaled, y = y_train.ravel(), cv = 10)\n",
        "print(\"CV: \", cv_svm_kernel.mean())\n",
        "\n",
        "y_pred_svm_kernel_train = classifier_svm_kernel.predict(X_train_scaled)\n",
        "accuracy_svm_kernel_train = accuracy_score(y_train, y_pred_svm_kernel_train)\n",
        "print(\"Training set: \", accuracy_svm_kernel_train)\n",
        "\n",
        "y_pred_svm_kernel_test = classifier_svm_kernel.predict(X_test_scaled)\n",
        "accuracy_svm_kernel_test = accuracy_score(y_test, y_pred_svm_kernel_test)\n",
        "print(\"Test set: \", accuracy_svm_kernel_test)"
      ],
      "execution_count": 30,
      "outputs": [
        {
          "output_type": "stream",
          "name": "stdout",
          "text": [
            "CV:  0.8999261811023622\n",
            "Training set:  0.9421422986708365\n",
            "Test set:  0.89375\n"
          ]
        }
      ]
    },
    {
      "cell_type": "code",
      "metadata": {
        "colab": {
          "base_uri": "https://localhost:8080/"
        },
        "id": "dXLvFFN4gkpZ",
        "outputId": "55206cfd-ba93-4a69-cc24-0dd38d31fb58"
      },
      "source": [
        "confusion_matrix(y_test, y_pred_svm_kernel_test)"
      ],
      "execution_count": 31,
      "outputs": [
        {
          "output_type": "execute_result",
          "data": {
            "text/plain": [
              "array([[261,  12],\n",
              "       [ 22,  25]])"
            ]
          },
          "metadata": {},
          "execution_count": 31
        }
      ]
    },
    {
      "cell_type": "code",
      "metadata": {
        "id": "9fBYYnWwgkpZ"
      },
      "source": [
        "tp_svm_kernel = confusion_matrix(y_test, y_pred_svm_kernel_test)[0,0]\n",
        "fp_svm_kernel = confusion_matrix(y_test, y_pred_svm_kernel_test)[0,1]\n",
        "tn_svm_kernel = confusion_matrix(y_test, y_pred_svm_kernel_test)[1,1]\n",
        "fn_svm_kernel = confusion_matrix(y_test, y_pred_svm_kernel_test)[1,0]"
      ],
      "execution_count": 32,
      "outputs": []
    },
    {
      "cell_type": "code",
      "metadata": {
        "colab": {
          "base_uri": "https://localhost:8080/"
        },
        "id": "T73NrBBIgkpZ",
        "outputId": "76b30016-00c5-4438-a881-37209b540523"
      },
      "source": [
        "precison_svm_kernel = tp_svm_kernel/(tp_svm_kernel+fp_svm_kernel)\n",
        "recall_svm_kernel = tp_svm_kernel/(tp_svm_kernel+fn_svm_kernel)\n",
        "\n",
        "print(\"Precision: \", precison_svm_kernel)\n",
        "print(\"Recall: \", recall_svm_kernel)"
      ],
      "execution_count": 33,
      "outputs": [
        {
          "output_type": "stream",
          "name": "stdout",
          "text": [
            "Precision:  0.9560439560439561\n",
            "Recall:  0.9222614840989399\n"
          ]
        }
      ]
    },
    {
      "cell_type": "markdown",
      "metadata": {
        "id": "V5Nlc6bVgkpZ"
      },
      "source": [
        "# 3.5. Gaussian Naive Bayes"
      ]
    },
    {
      "cell_type": "code",
      "metadata": {
        "colab": {
          "base_uri": "https://localhost:8080/"
        },
        "id": "R_vsZzAPgkpZ",
        "outputId": "35e12cdf-bdf7-4bf8-fd06-35df9baf531a"
      },
      "source": [
        "# Fitting classifier to the Training set\n",
        "from sklearn.naive_bayes import GaussianNB\n",
        "classifier_nb = GaussianNB()\n",
        "classifier_nb.fit(X_train_scaled, y_train.ravel())"
      ],
      "execution_count": 34,
      "outputs": [
        {
          "output_type": "execute_result",
          "data": {
            "text/plain": [
              "GaussianNB(priors=None, var_smoothing=1e-09)"
            ]
          },
          "metadata": {},
          "execution_count": 34
        }
      ]
    },
    {
      "cell_type": "code",
      "metadata": {
        "colab": {
          "base_uri": "https://localhost:8080/"
        },
        "id": "k8bc50iwgkpZ",
        "outputId": "cb736512-498c-4701-8e87-419a18262175"
      },
      "source": [
        "# Predicting Cross Validation Score\n",
        "cv_nb = cross_val_score(estimator = classifier_nb, X = X_train_scaled, y = y_train.ravel(), cv = 10)\n",
        "print(\"CV: \", cv_nb.mean())\n",
        "\n",
        "y_pred_nb_train = classifier_nb.predict(X_train_scaled)\n",
        "accuracy_nb_train = accuracy_score(y_train, y_pred_nb_train)\n",
        "print(\"Training set: \", accuracy_nb_train)\n",
        "\n",
        "y_pred_nb_test = classifier_nb.predict(X_test_scaled)\n",
        "accuracy_nb_test = accuracy_score(y_test, y_pred_nb_test)\n",
        "print(\"Test set: \", accuracy_nb_test)"
      ],
      "execution_count": 35,
      "outputs": [
        {
          "output_type": "stream",
          "name": "stdout",
          "text": [
            "CV:  0.8373462106299213\n",
            "Training set:  0.8389366692728695\n",
            "Test set:  0.846875\n"
          ]
        }
      ]
    },
    {
      "cell_type": "code",
      "metadata": {
        "colab": {
          "base_uri": "https://localhost:8080/"
        },
        "id": "QVO55xP2gkpa",
        "outputId": "a5d6f3c6-9a91-4066-f99e-906da6d981c8"
      },
      "source": [
        "confusion_matrix(y_test, y_pred_nb_test)"
      ],
      "execution_count": 36,
      "outputs": [
        {
          "output_type": "execute_result",
          "data": {
            "text/plain": [
              "array([[234,  39],\n",
              "       [ 10,  37]])"
            ]
          },
          "metadata": {},
          "execution_count": 36
        }
      ]
    },
    {
      "cell_type": "code",
      "metadata": {
        "id": "nlvgYuF4gkpa"
      },
      "source": [
        "tp_nb = confusion_matrix(y_test, y_pred_nb_test)[0,0]\n",
        "fp_nb = confusion_matrix(y_test, y_pred_nb_test)[0,1]\n",
        "tn_nb = confusion_matrix(y_test, y_pred_nb_test)[1,1]\n",
        "fn_nb = confusion_matrix(y_test, y_pred_nb_test)[1,0]"
      ],
      "execution_count": 37,
      "outputs": []
    },
    {
      "cell_type": "code",
      "metadata": {
        "colab": {
          "base_uri": "https://localhost:8080/"
        },
        "id": "lNAG7xzQgkpa",
        "outputId": "56847939-e169-45c3-8037-ac46081e8c14"
      },
      "source": [
        "precison_nb = tp_nb/(tp_nb+fp_nb)\n",
        "recall_nb = tp_nb/(tp_nb+fn_nb)\n",
        "\n",
        "print(\"Precision: \", precison_nb)\n",
        "print(\"Recall: \", recall_nb)"
      ],
      "execution_count": 38,
      "outputs": [
        {
          "output_type": "stream",
          "name": "stdout",
          "text": [
            "Precision:  0.8571428571428571\n",
            "Recall:  0.9590163934426229\n"
          ]
        }
      ]
    },
    {
      "cell_type": "markdown",
      "metadata": {
        "id": "2IPa9poCgkpa"
      },
      "source": [
        "# 3.6. Decision Tree"
      ]
    },
    {
      "cell_type": "code",
      "metadata": {
        "colab": {
          "base_uri": "https://localhost:8080/"
        },
        "id": "-J7z5J59gkpa",
        "outputId": "c668c7d2-a380-47d2-e8a2-e9e27937aaa2"
      },
      "source": [
        "# Fitting classifier to the Training set\n",
        "from sklearn.tree import DecisionTreeClassifier\n",
        "classifier_dt = DecisionTreeClassifier(criterion = 'gini', max_features=6, max_leaf_nodes=400, random_state = 33)\n",
        "classifier_dt.fit(X_train_scaled, y_train.ravel())"
      ],
      "execution_count": 39,
      "outputs": [
        {
          "output_type": "execute_result",
          "data": {
            "text/plain": [
              "DecisionTreeClassifier(ccp_alpha=0.0, class_weight=None, criterion='gini',\n",
              "                       max_depth=None, max_features=6, max_leaf_nodes=400,\n",
              "                       min_impurity_decrease=0.0, min_impurity_split=None,\n",
              "                       min_samples_leaf=1, min_samples_split=2,\n",
              "                       min_weight_fraction_leaf=0.0, presort='deprecated',\n",
              "                       random_state=33, splitter='best')"
            ]
          },
          "metadata": {},
          "execution_count": 39
        }
      ]
    },
    {
      "cell_type": "code",
      "metadata": {
        "colab": {
          "base_uri": "https://localhost:8080/"
        },
        "id": "d7QumXLMgkpa",
        "outputId": "3ab63b23-36ae-4623-a054-8b8e17cdcf7f"
      },
      "source": [
        "# Predicting Cross Validation Score\n",
        "cv_dt = cross_val_score(estimator = classifier_dt, X = X_train_scaled, y = y_train.ravel(), cv = 10)\n",
        "print(\"CV: \", cv_dt.mean())\n",
        "\n",
        "y_pred_dt_train = classifier_dt.predict(X_train_scaled)\n",
        "accuracy_dt_train = accuracy_score(y_train, y_pred_dt_train)\n",
        "print(\"Training set: \", accuracy_dt_train)\n",
        "\n",
        "y_pred_dt_test = classifier_dt.predict(X_test_scaled)\n",
        "accuracy_dt_test = accuracy_score(y_test, y_pred_dt_test)\n",
        "print(\"Test set: \", accuracy_dt_test)"
      ],
      "execution_count": 40,
      "outputs": [
        {
          "output_type": "stream",
          "name": "stdout",
          "text": [
            "CV:  0.8960014763779528\n",
            "Training set:  1.0\n",
            "Test set:  0.878125\n"
          ]
        }
      ]
    },
    {
      "cell_type": "code",
      "metadata": {
        "colab": {
          "base_uri": "https://localhost:8080/"
        },
        "id": "Ntwm48-Vgkpb",
        "outputId": "0ccbefcc-adf0-435a-8ff5-ea77e8bcccb4"
      },
      "source": [
        "confusion_matrix(y_test, y_pred_dt_test)"
      ],
      "execution_count": 41,
      "outputs": [
        {
          "output_type": "execute_result",
          "data": {
            "text/plain": [
              "array([[252,  21],\n",
              "       [ 18,  29]])"
            ]
          },
          "metadata": {},
          "execution_count": 41
        }
      ]
    },
    {
      "cell_type": "code",
      "metadata": {
        "id": "Aw7FrF7Qgkpb"
      },
      "source": [
        "tp_dt = confusion_matrix(y_test, y_pred_dt_test)[0,0]\n",
        "fp_dt = confusion_matrix(y_test, y_pred_dt_test)[0,1]\n",
        "tn_dt = confusion_matrix(y_test, y_pred_dt_test)[1,1]\n",
        "fn_dt = confusion_matrix(y_test, y_pred_dt_test)[1,0]"
      ],
      "execution_count": 42,
      "outputs": []
    },
    {
      "cell_type": "code",
      "metadata": {
        "colab": {
          "base_uri": "https://localhost:8080/"
        },
        "id": "MDtU3mQbgkpb",
        "outputId": "f16c2584-699f-4c53-ec3f-2172919428ab"
      },
      "source": [
        "precison_dt = tp_dt/(tp_dt+fp_dt)\n",
        "recall_dt = tp_dt/(tp_dt+fn_dt)\n",
        "\n",
        "print(\"Precision: \", precison_dt)\n",
        "print(\"Recall: \", recall_dt)"
      ],
      "execution_count": 43,
      "outputs": [
        {
          "output_type": "stream",
          "name": "stdout",
          "text": [
            "Precision:  0.9230769230769231\n",
            "Recall:  0.9333333333333333\n"
          ]
        }
      ]
    },
    {
      "cell_type": "markdown",
      "metadata": {
        "id": "vK3SxZPggkpb"
      },
      "source": [
        "# 3.7. Random Forest"
      ]
    },
    {
      "cell_type": "code",
      "metadata": {
        "colab": {
          "base_uri": "https://localhost:8080/"
        },
        "id": "RzwOdzADgkpb",
        "outputId": "2da422fd-e302-404c-92ba-25307f430674"
      },
      "source": [
        "# Fitting Random Forest Classification to the Training set\n",
        "from sklearn.ensemble import RandomForestClassifier\n",
        "classifier_rf = RandomForestClassifier(criterion = 'entropy', max_features = 4, n_estimators = 800, random_state=33)\n",
        "classifier_rf.fit(X_train_scaled, y_train.ravel())"
      ],
      "execution_count": 44,
      "outputs": [
        {
          "output_type": "execute_result",
          "data": {
            "text/plain": [
              "RandomForestClassifier(bootstrap=True, ccp_alpha=0.0, class_weight=None,\n",
              "                       criterion='entropy', max_depth=None, max_features=4,\n",
              "                       max_leaf_nodes=None, max_samples=None,\n",
              "                       min_impurity_decrease=0.0, min_impurity_split=None,\n",
              "                       min_samples_leaf=1, min_samples_split=2,\n",
              "                       min_weight_fraction_leaf=0.0, n_estimators=800,\n",
              "                       n_jobs=None, oob_score=False, random_state=33, verbose=0,\n",
              "                       warm_start=False)"
            ]
          },
          "metadata": {},
          "execution_count": 44
        }
      ]
    },
    {
      "cell_type": "code",
      "metadata": {
        "scrolled": true,
        "colab": {
          "base_uri": "https://localhost:8080/"
        },
        "id": "I795J5wBgkpb",
        "outputId": "568f8d55-4f89-433c-b296-8c9a0fe9a590"
      },
      "source": [
        "# Predicting Cross Validation Score\n",
        "cv_rf = cross_val_score(estimator = classifier_rf, X = X_train_scaled, y = y_train.ravel(), cv = 10)\n",
        "print(\"CV: \", cv_rf.mean())\n",
        "\n",
        "y_pred_rf_train = classifier_rf.predict(X_train_scaled)\n",
        "accuracy_rf_train = accuracy_score(y_train, y_pred_rf_train)\n",
        "print(\"Training set: \", accuracy_rf_train)\n",
        "\n",
        "y_pred_rf_test = classifier_rf.predict(X_test_scaled)\n",
        "accuracy_rf_test = accuracy_score(y_test, y_pred_rf_test)\n",
        "print(\"Test set: \", accuracy_rf_test)"
      ],
      "execution_count": 45,
      "outputs": [
        {
          "output_type": "stream",
          "name": "stdout",
          "text": [
            "CV:  0.9140194389763779\n",
            "Training set:  1.0\n",
            "Test set:  0.9125\n"
          ]
        }
      ]
    },
    {
      "cell_type": "code",
      "metadata": {
        "colab": {
          "base_uri": "https://localhost:8080/"
        },
        "id": "Jom0VgVRgkpc",
        "outputId": "34244df8-8dc3-43e5-a2d0-b4783cc2a300"
      },
      "source": [
        "confusion_matrix(y_test, y_pred_rf_test)"
      ],
      "execution_count": 46,
      "outputs": [
        {
          "output_type": "execute_result",
          "data": {
            "text/plain": [
              "array([[267,   6],\n",
              "       [ 22,  25]])"
            ]
          },
          "metadata": {},
          "execution_count": 46
        }
      ]
    },
    {
      "cell_type": "code",
      "metadata": {
        "id": "86qLSVW7gkpc"
      },
      "source": [
        "tp_rf = confusion_matrix(y_test, y_pred_rf_test)[0,0]\n",
        "fp_rf = confusion_matrix(y_test, y_pred_rf_test)[0,1]\n",
        "tn_rf = confusion_matrix(y_test, y_pred_rf_test)[1,1]\n",
        "fn_rf = confusion_matrix(y_test, y_pred_rf_test)[1,0]"
      ],
      "execution_count": 47,
      "outputs": []
    },
    {
      "cell_type": "code",
      "metadata": {
        "colab": {
          "base_uri": "https://localhost:8080/"
        },
        "id": "mLEAjN3Rgkpc",
        "outputId": "bd992806-8d14-4c19-d446-44f776be6d00"
      },
      "source": [
        "precison_rf = tp_rf/(tp_rf+fp_rf)\n",
        "recall_rf = tp_rf/(tp_rf+fn_rf)\n",
        "\n",
        "print(\"Precision: \", precison_rf)\n",
        "print(\"Recall: \", recall_rf)"
      ],
      "execution_count": 48,
      "outputs": [
        {
          "output_type": "stream",
          "name": "stdout",
          "text": [
            "Precision:  0.978021978021978\n",
            "Recall:  0.9238754325259516\n"
          ]
        }
      ]
    },
    {
      "cell_type": "markdown",
      "metadata": {
        "id": "au7VoIidgkpc"
      },
      "source": [
        "# 4. Measuring the Error"
      ]
    },
    {
      "cell_type": "code",
      "metadata": {
        "id": "mT33AzTAgkpc"
      },
      "source": [
        "models = [('Logistic Regression', tp_lr, fp_lr, tn_lr, fn_lr, accuracy_lr_train, accuracy_lr_test, cv_lr.mean()),\n",
        "          ('K-Nearest Neighbors (KNN)', tp_knn, fp_knn, tn_knn, fn_knn, accuracy_knn_train, accuracy_knn_test, cv_knn.mean()),\n",
        "          ('SVM (Linear)', tp_svm_linear, fp_svm_linear, tn_svm_linear, fn_svm_linear, accuracy_svm_linear_train, accuracy_svm_linear_test, cv_svm_linear.mean()),\n",
        "          ('SVM (Kernel)', tp_svm_kernel, fp_svm_kernel, tn_svm_kernel, fn_svm_kernel, accuracy_svm_kernel_train, accuracy_svm_kernel_test, cv_svm_kernel.mean()),\n",
        "          ('Naive Bayes', tp_nb, fp_nb, tn_nb, fn_nb, accuracy_nb_train, accuracy_nb_test, cv_nb.mean()),\n",
        "          ('Decision Tree Classification', tp_dt, fp_dt, tn_dt, fn_dt, accuracy_dt_train, accuracy_dt_test, cv_dt.mean()),\n",
        "          ('Random Forest Tree Classification', tp_rf, fp_rf, tn_rf, fn_rf, accuracy_rf_train, accuracy_rf_test, cv_rf.mean())\n",
        "         ]"
      ],
      "execution_count": 49,
      "outputs": []
    },
    {
      "cell_type": "code",
      "metadata": {
        "colab": {
          "base_uri": "https://localhost:8080/",
          "height": 298
        },
        "id": "Gf2QDxJOgkpd",
        "outputId": "418efbcf-8b24-43b4-a0b0-62a28a375bb3"
      },
      "source": [
        "predict = pd.DataFrame(data = models, columns=['Model', 'True Positive', 'False Positive', 'True Negative',\n",
        "                                               'False Negative', 'Accuracy(training)', 'Accuracy(test)',\n",
        "                                               'Cross-Validation'])\n",
        "predict"
      ],
      "execution_count": 50,
      "outputs": [
        {
          "output_type": "execute_result",
          "data": {
            "text/html": [
              "<div>\n",
              "<style scoped>\n",
              "    .dataframe tbody tr th:only-of-type {\n",
              "        vertical-align: middle;\n",
              "    }\n",
              "\n",
              "    .dataframe tbody tr th {\n",
              "        vertical-align: top;\n",
              "    }\n",
              "\n",
              "    .dataframe thead th {\n",
              "        text-align: right;\n",
              "    }\n",
              "</style>\n",
              "<table border=\"1\" class=\"dataframe\">\n",
              "  <thead>\n",
              "    <tr style=\"text-align: right;\">\n",
              "      <th></th>\n",
              "      <th>Model</th>\n",
              "      <th>True Positive</th>\n",
              "      <th>False Positive</th>\n",
              "      <th>True Negative</th>\n",
              "      <th>False Negative</th>\n",
              "      <th>Accuracy(training)</th>\n",
              "      <th>Accuracy(test)</th>\n",
              "      <th>Cross-Validation</th>\n",
              "    </tr>\n",
              "  </thead>\n",
              "  <tbody>\n",
              "    <tr>\n",
              "      <th>0</th>\n",
              "      <td>Logistic Regression</td>\n",
              "      <td>264</td>\n",
              "      <td>9</td>\n",
              "      <td>13</td>\n",
              "      <td>34</td>\n",
              "      <td>0.885848</td>\n",
              "      <td>0.865625</td>\n",
              "      <td>0.885858</td>\n",
              "    </tr>\n",
              "    <tr>\n",
              "      <th>1</th>\n",
              "      <td>K-Nearest Neighbors (KNN)</td>\n",
              "      <td>264</td>\n",
              "      <td>9</td>\n",
              "      <td>22</td>\n",
              "      <td>25</td>\n",
              "      <td>1.000000</td>\n",
              "      <td>0.893750</td>\n",
              "      <td>0.902270</td>\n",
              "    </tr>\n",
              "    <tr>\n",
              "      <th>2</th>\n",
              "      <td>SVM (Linear)</td>\n",
              "      <td>273</td>\n",
              "      <td>0</td>\n",
              "      <td>0</td>\n",
              "      <td>47</td>\n",
              "      <td>0.867084</td>\n",
              "      <td>0.853125</td>\n",
              "      <td>0.867083</td>\n",
              "    </tr>\n",
              "    <tr>\n",
              "      <th>3</th>\n",
              "      <td>SVM (Kernel)</td>\n",
              "      <td>261</td>\n",
              "      <td>12</td>\n",
              "      <td>25</td>\n",
              "      <td>22</td>\n",
              "      <td>0.942142</td>\n",
              "      <td>0.893750</td>\n",
              "      <td>0.899926</td>\n",
              "    </tr>\n",
              "    <tr>\n",
              "      <th>4</th>\n",
              "      <td>Naive Bayes</td>\n",
              "      <td>234</td>\n",
              "      <td>39</td>\n",
              "      <td>37</td>\n",
              "      <td>10</td>\n",
              "      <td>0.838937</td>\n",
              "      <td>0.846875</td>\n",
              "      <td>0.837346</td>\n",
              "    </tr>\n",
              "    <tr>\n",
              "      <th>5</th>\n",
              "      <td>Decision Tree Classification</td>\n",
              "      <td>252</td>\n",
              "      <td>21</td>\n",
              "      <td>29</td>\n",
              "      <td>18</td>\n",
              "      <td>1.000000</td>\n",
              "      <td>0.878125</td>\n",
              "      <td>0.896001</td>\n",
              "    </tr>\n",
              "    <tr>\n",
              "      <th>6</th>\n",
              "      <td>Random Forest Tree Classification</td>\n",
              "      <td>267</td>\n",
              "      <td>6</td>\n",
              "      <td>25</td>\n",
              "      <td>22</td>\n",
              "      <td>1.000000</td>\n",
              "      <td>0.912500</td>\n",
              "      <td>0.914019</td>\n",
              "    </tr>\n",
              "  </tbody>\n",
              "</table>\n",
              "</div>"
            ],
            "text/plain": [
              "                               Model  ...  Cross-Validation\n",
              "0                Logistic Regression  ...          0.885858\n",
              "1          K-Nearest Neighbors (KNN)  ...          0.902270\n",
              "2                       SVM (Linear)  ...          0.867083\n",
              "3                       SVM (Kernel)  ...          0.899926\n",
              "4                        Naive Bayes  ...          0.837346\n",
              "5       Decision Tree Classification  ...          0.896001\n",
              "6  Random Forest Tree Classification  ...          0.914019\n",
              "\n",
              "[7 rows x 8 columns]"
            ]
          },
          "metadata": {},
          "execution_count": 50
        }
      ]
    },
    {
      "cell_type": "code",
      "metadata": {
        "colab": {
          "base_uri": "https://localhost:8080/",
          "height": 362
        },
        "id": "d5EojF7Vgkpd",
        "outputId": "c878f669-8e90-42be-b634-d2bf9715e9bd"
      },
      "source": [
        "f, axe = plt.subplots(1,1, figsize=(18,6))\n",
        "\n",
        "predict.sort_values(by=['Cross-Validation'], ascending=False, inplace=True)\n",
        "\n",
        "sns.barplot(x='Cross-Validation', y='Model', data = predict, ax = axe)\n",
        "#axes[0].set(xlabel='Region', ylabel='Charges')\n",
        "axe.set_xlabel('Cross-Validaton Score', size=16)\n",
        "axe.set_ylabel('Model')\n",
        "axe.set_xlim(0,1.0)\n",
        "axe.set_xticks(np.arange(0, 1.1, 0.1))\n",
        "plt.show()"
      ],
      "execution_count": 51,
      "outputs": [
        {
          "output_type": "display_data",
          "data": {
            "image/png": "[encoded data removed]",
            "text/plain": [
              "<Figure size 1296x432 with 1 Axes>"
            ]
          },
          "metadata": {
            "needs_background": "light"
          }
        }
      ]
    },
    {
      "cell_type": "code",
      "metadata": {
        "colab": {
          "base_uri": "https://localhost:8080/",
          "height": 611
        },
        "id": "r-yfffzagkpd",
        "outputId": "a79140c5-8a81-4e22-85fe-de286b1f386e"
      },
      "source": [
        "f, axes = plt.subplots(2,1, figsize=(14,10))\n",
        "\n",
        "predict.sort_values(by=['Accuracy(training)'], ascending=False, inplace=True)\n",
        "\n",
        "sns.barplot(x='Accuracy(training)', y='Model', data = predict, palette='Blues_d', ax = axes[0])\n",
        "#axes[0].set(xlabel='Region', ylabel='Charges')\n",
        "axes[0].set_xlabel('Accuracy (Training)', size=16)\n",
        "axes[0].set_ylabel('Model')\n",
        "axes[0].set_xlim(0,1.0)\n",
        "axes[0].set_xticks(np.arange(0, 1.1, 0.1))\n",
        "\n",
        "predict.sort_values(by=['Accuracy(test)'], ascending=False, inplace=True)\n",
        "\n",
        "sns.barplot(x='Accuracy(test)', y='Model', data = predict, palette='Reds_d', ax = axes[1])\n",
        "#axes[0].set(xlabel='Region', ylabel='Charges')\n",
        "axes[1].set_xlabel('Accuracy (Test)', size=16)\n",
        "axes[1].set_ylabel('Model')\n",
        "axes[1].set_xlim(0,1.0)\n",
        "axes[1].set_xticks(np.arange(0, 1.1, 0.1))\n",
        "\n",
        "plt.show()"
      ],
      "execution_count": 52,
      "outputs": [
        {
          "output_type": "display_data",
          "data": {
            "image/png": "[encoded data removed]",
            "text/plain": [
              "<Figure size 1008x720 with 2 Axes>"
            ]
          },
          "metadata": {
            "needs_background": "light"
          }
        }
      ]
    },
    {
      "cell_type": "code",
      "metadata": {
        "colab": {
          "base_uri": "https://localhost:8080/",
          "height": 407
        },
        "id": "QbGwIa-1gkpd",
        "outputId": "bd7bae86-74bc-4968-82d8-57ee19cb6213"
      },
      "source": [
        "predict.sort_values(by=(['Accuracy(test)']), ascending=True, inplace=True)\n",
        "\n",
        "f, axe = plt.subplots(1,1, figsize=(24,8))\n",
        "sns.barplot(x = predict['Model'], y=predict['False Positive'] + predict['False Negative'], ax = axe)\n",
        "axe.set_xlabel('Model', size=20)\n",
        "axe.set_ylabel('False Observations', size=20)\n",
        "\n",
        "plt.show()"
      ],
      "execution_count": 53,
      "outputs": [
        {
          "output_type": "display_data",
          "data": {
            "image/png": "[encoded data removed]",
            "text/plain": [
              "<Figure size 1728x576 with 1 Axes>"
            ]
          },
          "metadata": {
            "needs_background": "light"
          }
        }
      ]
    },
    {
      "cell_type": "code",
      "metadata": {
        "id": "A56rBcHpgkpd"
      },
      "source": [
        ""
      ],
      "execution_count": 53,
      "outputs": []
    }
  ]
}